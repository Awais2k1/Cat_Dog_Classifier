{
  "cells": [
    {
      "cell_type": "code",
      "execution_count": null,
      "metadata": {
        "id": "ZrWp0gl7P9gp"
      },
      "outputs": [],
      "source": [
        "!mkdir -p ~/.kaggle\n",
        "!cp kaggle.json ~/.kaggle/"
      ]
    },
    {
      "cell_type": "code",
      "execution_count": null,
      "metadata": {
        "colab": {
          "base_uri": "https://localhost:8080/"
        },
        "id": "3OtLVkhdU9Fo",
        "outputId": "94f8b7ce-d2c4-423e-85a2-89f5e0abbf60"
      },
      "outputs": [
        {
          "name": "stdout",
          "output_type": "stream",
          "text": [
            "Warning: Your Kaggle API key is readable by other users on this system! To fix this, you can run 'chmod 600 /root/.kaggle/kaggle.json'\n",
            "Dataset URL: https://www.kaggle.com/datasets/salader/dogs-vs-cats\n",
            "License(s): unknown\n",
            "Downloading dogs-vs-cats.zip to /content\n",
            "100% 1.06G/1.06G [00:05<00:00, 197MB/s]\n",
            "100% 1.06G/1.06G [00:05<00:00, 217MB/s]\n"
          ]
        }
      ],
      "source": [
        "!kaggle datasets download -d salader/dogs-vs-cats"
      ]
    },
    {
      "cell_type": "code",
      "execution_count": null,
      "metadata": {
        "id": "YHyEjWVeWZUJ"
      },
      "outputs": [],
      "source": [
        "import zipfile  # Import Python's built-in zipfile module\n",
        "\n",
        "# Open the ZIP file in read mode ('r')\n",
        "zip_ref = zipfile.ZipFile('/content/dogs-vs-cats.zip', 'r')\n",
        "\n",
        "# Extract all files from the ZIP to '/content'\n",
        "zip_ref.extractall('/content')\n",
        "\n",
        "# Close the ZIP file to free system resources\n",
        "zip_ref.close()"
      ]
    },
    {
      "cell_type": "code",
      "execution_count": null,
      "metadata": {
        "id": "GPzcHbUUWv5h"
      },
      "outputs": [],
      "source": [
        "import tensorflow as tf\n",
        "from tensorflow import keras\n",
        "from keras import Sequential\n",
        "from keras.layers import Dense, Conv2D, MaxPooling2D, Flatten, BatchNormalization, Dropout"
      ]
    },
    {
      "cell_type": "code",
      "execution_count": null,
      "metadata": {
        "colab": {
          "base_uri": "https://localhost:8080/"
        },
        "id": "btMliFpqX4hH",
        "outputId": "9a137a62-02e4-4464-c117-0e6a8558b76a"
      },
      "outputs": [
        {
          "name": "stdout",
          "output_type": "stream",
          "text": [
            "Found 20000 files belonging to 2 classes.\n"
          ]
        }
      ],
      "source": [
        "train_ds = keras.utils.image_dataset_from_directory(\n",
        "    directory = '/content/train',\n",
        "    labels = 'inferred',\n",
        "    label_mode = 'int',\n",
        "    batch_size = 32,\n",
        "    image_size = (256, 256)\n",
        ")"
      ]
    },
    {
      "cell_type": "code",
      "execution_count": null,
      "metadata": {
        "colab": {
          "base_uri": "https://localhost:8080/"
        },
        "id": "oMBaQnb5YUnB",
        "outputId": "07bc29d5-e4db-4271-89fb-4ad86ecdce2d"
      },
      "outputs": [
        {
          "name": "stdout",
          "output_type": "stream",
          "text": [
            "Found 5000 files belonging to 2 classes.\n"
          ]
        }
      ],
      "source": [
        "validation_ds = keras.utils.image_dataset_from_directory(\n",
        "    directory = '/content/test',\n",
        "    labels = 'inferred',\n",
        "    label_mode = 'int',\n",
        "    batch_size = 32,\n",
        "    image_size = (256, 256)\n",
        ")"
      ]
    },
    {
      "cell_type": "markdown",
      "metadata": {
        "id": "i2vg7CyrzdHM"
      },
      "source": [
        "#Image Augmentation"
      ]
    },
    {
      "cell_type": "code",
      "execution_count": null,
      "metadata": {
        "id": "jOrh2-CbzcpN"
      },
      "outputs": [],
      "source": [
        "import tensorflow\n",
        "import keras\n",
        "import numpy as np\n",
        "import matplotlib.pyplot as plt\n",
        "from tensorflow.keras.preprocessing.image import ImageDataGenerator\n",
        "from tensorflow.keras.models import Sequential\n",
        "from tensorflow.keras.layers import Conv2D, MaxPooling2D, Flatten, Dense, Dropout, BatchNormalization\n",
        "from tensorflow.keras.callbacks import ModelCheckpoint"
      ]
    },
    {
      "cell_type": "code",
      "execution_count": null,
      "metadata": {
        "colab": {
          "base_uri": "https://localhost:8080/"
        },
        "id": "RwYm0Cqnz782",
        "outputId": "6b54e06b-11a7-4246-d80a-e4574f007081"
      },
      "outputs": [
        {
          "name": "stdout",
          "output_type": "stream",
          "text": [
            "Found 20000 images belonging to 2 classes.\n",
            "Found 5000 images belonging to 2 classes.\n"
          ]
        }
      ],
      "source": [
        "data_gen= ImageDataGenerator(\n",
        "    rescale = 1./255,\n",
        "    width_shift_range=0.2,\n",
        "    height_shift_range=0.2,\n",
        "    shear_range=0.2,\n",
        "    zoom_range=0.2,\n",
        "    horizontal_flip=True,\n",
        ")\n",
        "\n",
        "test_datagen = ImageDataGenerator(rescale = 1./255)\n",
        "\n",
        "train_generator = data_gen.flow_from_directory(\n",
        "    '/content/train',\n",
        "    target_size = (256,256),\n",
        "    batch_size = 32,\n",
        "    class_mode = 'binary'\n",
        ")\n",
        "\n",
        "validation_ds = test_datagen.flow_from_directory(\n",
        "    '/content/test',\n",
        "    target_size = (256,256),\n",
        "    batch_size = 32,\n",
        "    class_mode = 'binary'\n",
        ")"
      ]
    },
    {
      "cell_type": "code",
      "execution_count": null,
      "metadata": {
        "colab": {
          "base_uri": "https://localhost:8080/"
        },
        "id": "uKp89nqt1mNV",
        "outputId": "0accdcfc-d232-4ab2-ba9a-1acd22771ec4"
      },
      "outputs": [
        {
          "name": "stderr",
          "output_type": "stream",
          "text": [
            "/usr/local/lib/python3.11/dist-packages/keras/src/layers/convolutional/base_conv.py:107: UserWarning: Do not pass an `input_shape`/`input_dim` argument to a layer. When using Sequential models, prefer using an `Input(shape)` object as the first layer in the model instead.\n",
            "  super().__init__(activity_regularizer=activity_regularizer, **kwargs)\n"
          ]
        }
      ],
      "source": [
        "model = Sequential()\n",
        "\n",
        "model.add(Conv2D(32,kernel_size=(3,3),activation = 'relu',input_shape=(256,256,3),padding='same'))\n",
        "model.add(BatchNormalization())\n",
        "model.add(MaxPooling2D(pool_size=(2,2),strides=2,padding = 'same'))\n",
        "\n",
        "model.add(Conv2D(64,kernel_size=(3,3),activation = 'relu',padding='same'))\n",
        "model.add(BatchNormalization())\n",
        "model.add(MaxPooling2D(pool_size=(2,2),strides=2,padding = 'same')) #Add new layer\n",
        "\n",
        "model.add(Conv2D(128,kernel_size=(3,3),activation = 'relu',padding='same'))\n",
        "model.add(BatchNormalization())\n",
        "model.add(MaxPooling2D(pool_size=(2,2),strides=2,padding = 'same'))\n",
        "\n",
        "model.add(Conv2D(256,kernel_size=(3,3),activation = 'relu',padding='same'))\n",
        "model.add(BatchNormalization())\n",
        "model.add(MaxPooling2D(pool_size=(2,2),strides=2,padding = 'same'))\n",
        "\n",
        "model.add(Flatten())\n",
        "\n",
        "model.add(Dense(128,activation='relu'))\n",
        "model.add(Dropout(0.5))\n",
        "model.add(Dense(1,activation='sigmoid'))\n"
      ]
    },
    {
      "cell_type": "code",
      "execution_count": null,
      "metadata": {
        "id": "vFKOSTin12ec"
      },
      "outputs": [],
      "source": [
        "callback = tf.keras.callbacks.EarlyStopping(\n",
        "    monitor='val_loss',\n",
        "    min_delta=0,\n",
        "    patience = 5,\n",
        "    verbose=0,\n",
        "    mode='min',\n",
        "    baseline=None,\n",
        "    restore_best_weights=False,\n",
        "    start_from_epoch=0\n",
        ")"
      ]
    },
    {
      "cell_type": "code",
      "execution_count": null,
      "metadata": {
        "id": "gqzt4-Eb1_mN"
      },
      "outputs": [],
      "source": [
        "model.compile(optimizer='adam',loss='binary_crossentropy',metrics=['accuracy'])"
      ]
    },
    {
      "cell_type": "code",
      "execution_count": null,
      "metadata": {
        "id": "bRIqrqhf5Rd1"
      },
      "outputs": [],
      "source": [
        "checkpoint_path = \"/content/drive/MyDrive/Colab Notebooks/model_epoch_{epoch:02d}.keras\"  # Dynamic naming\n",
        "checkpoint = ModelCheckpoint(\n",
        "    filepath=checkpoint_path,\n",
        "    save_freq=\"epoch\",          # Save after every epoch\n",
        "    verbose=1\n",
        ")"
      ]
    },
    {
      "cell_type": "code",
      "execution_count": null,
      "metadata": {
        "id": "4Zc3AYe5ADyH"
      },
      "outputs": [],
      "source": [
        "# Path to your saved model\n",
        "model_path = \"/content/drive/MyDrive/Colab Notebooks/model_epoch_30.keras\"\n",
        "\n",
        "# Load the model (includes architecture, weights, and optimizer state)\n",
        "model = keras.models.load_model(model_path)"
      ]
    },
    {
      "cell_type": "code",
      "execution_count": null,
      "metadata": {
        "colab": {
          "base_uri": "https://localhost:8080/"
        },
        "id": "O89FpuiE2BKd",
        "outputId": "ddfe30d2-2fa1-4846-b83d-4c2154a4193e"
      },
      "outputs": [
        {
          "name": "stdout",
          "output_type": "stream",
          "text": [
            "Epoch 21/30\n",
            "\u001b[1m625/625\u001b[0m \u001b[32m━━━━━━━━━━━━━━━━━━━━\u001b[0m\u001b[37m\u001b[0m \u001b[1m0s\u001b[0m 541ms/step - accuracy: 0.9109 - loss: 0.2155\n",
            "Epoch 21: saving model to /content/drive/MyDrive/Colab Notebooks/model_epoch_21.keras\n",
            "\u001b[1m625/625\u001b[0m \u001b[32m━━━━━━━━━━━━━━━━━━━━\u001b[0m\u001b[37m\u001b[0m \u001b[1m350s\u001b[0m 560ms/step - accuracy: 0.9109 - loss: 0.2155 - val_accuracy: 0.9135 - val_loss: 0.2190\n",
            "Epoch 22/30\n",
            "\u001b[1m625/625\u001b[0m \u001b[32m━━━━━━━━━━━━━━━━━━━━\u001b[0m\u001b[37m\u001b[0m \u001b[1m0s\u001b[0m 540ms/step - accuracy: 0.9150 - loss: 0.2159\n",
            "Epoch 22: saving model to /content/drive/MyDrive/Colab Notebooks/model_epoch_22.keras\n",
            "\u001b[1m625/625\u001b[0m \u001b[32m━━━━━━━━━━━━━━━━━━━━\u001b[0m\u001b[37m\u001b[0m \u001b[1m349s\u001b[0m 559ms/step - accuracy: 0.9150 - loss: 0.2159 - val_accuracy: 0.9321 - val_loss: 0.1770\n",
            "Epoch 23/30\n",
            "\u001b[1m625/625\u001b[0m \u001b[32m━━━━━━━━━━━━━━━━━━━━\u001b[0m\u001b[37m\u001b[0m \u001b[1m0s\u001b[0m 536ms/step - accuracy: 0.9192 - loss: 0.2044\n",
            "Epoch 23: saving model to /content/drive/MyDrive/Colab Notebooks/model_epoch_23.keras\n",
            "\u001b[1m625/625\u001b[0m \u001b[32m━━━━━━━━━━━━━━━━━━━━\u001b[0m\u001b[37m\u001b[0m \u001b[1m348s\u001b[0m 555ms/step - accuracy: 0.9192 - loss: 0.2044 - val_accuracy: 0.9247 - val_loss: 0.2034\n",
            "Epoch 24/30\n",
            "\u001b[1m625/625\u001b[0m \u001b[32m━━━━━━━━━━━━━━━━━━━━\u001b[0m\u001b[37m\u001b[0m \u001b[1m0s\u001b[0m 542ms/step - accuracy: 0.9164 - loss: 0.2022\n",
            "Epoch 24: saving model to /content/drive/MyDrive/Colab Notebooks/model_epoch_24.keras\n",
            "\u001b[1m625/625\u001b[0m \u001b[32m━━━━━━━━━━━━━━━━━━━━\u001b[0m\u001b[37m\u001b[0m \u001b[1m350s\u001b[0m 560ms/step - accuracy: 0.9164 - loss: 0.2022 - val_accuracy: 0.9119 - val_loss: 0.2316\n",
            "Epoch 25/30\n",
            "\u001b[1m625/625\u001b[0m \u001b[32m━━━━━━━━━━━━━━━━━━━━\u001b[0m\u001b[37m\u001b[0m \u001b[1m0s\u001b[0m 547ms/step - accuracy: 0.9233 - loss: 0.2021\n",
            "Epoch 25: saving model to /content/drive/MyDrive/Colab Notebooks/model_epoch_25.keras\n",
            "\u001b[1m625/625\u001b[0m \u001b[32m━━━━━━━━━━━━━━━━━━━━\u001b[0m\u001b[37m\u001b[0m \u001b[1m353s\u001b[0m 565ms/step - accuracy: 0.9233 - loss: 0.2021 - val_accuracy: 0.8824 - val_loss: 0.5381\n",
            "Epoch 26/30\n",
            "\u001b[1m625/625\u001b[0m \u001b[32m━━━━━━━━━━━━━━━━━━━━\u001b[0m\u001b[37m\u001b[0m \u001b[1m0s\u001b[0m 535ms/step - accuracy: 0.9184 - loss: 0.2007\n",
            "Epoch 26: saving model to /content/drive/MyDrive/Colab Notebooks/model_epoch_26.keras\n",
            "\u001b[1m625/625\u001b[0m \u001b[32m━━━━━━━━━━━━━━━━━━━━\u001b[0m\u001b[37m\u001b[0m \u001b[1m346s\u001b[0m 552ms/step - accuracy: 0.9184 - loss: 0.2007 - val_accuracy: 0.9195 - val_loss: 0.2427\n",
            "Epoch 27/30\n",
            "\u001b[1m625/625\u001b[0m \u001b[32m━━━━━━━━━━━━━━━━━━━━\u001b[0m\u001b[37m\u001b[0m \u001b[1m0s\u001b[0m 532ms/step - accuracy: 0.9269 - loss: 0.1900\n",
            "Epoch 27: saving model to /content/drive/MyDrive/Colab Notebooks/model_epoch_27.keras\n",
            "\u001b[1m625/625\u001b[0m \u001b[32m━━━━━━━━━━━━━━━━━━━━\u001b[0m\u001b[37m\u001b[0m \u001b[1m344s\u001b[0m 550ms/step - accuracy: 0.9269 - loss: 0.1900 - val_accuracy: 0.9437 - val_loss: 0.1605\n",
            "Epoch 28/30\n",
            "\u001b[1m625/625\u001b[0m \u001b[32m━━━━━━━━━━━━━━━━━━━━\u001b[0m\u001b[37m\u001b[0m \u001b[1m0s\u001b[0m 542ms/step - accuracy: 0.9274 - loss: 0.1772\n",
            "Epoch 28: saving model to /content/drive/MyDrive/Colab Notebooks/model_epoch_28.keras\n",
            "\u001b[1m625/625\u001b[0m \u001b[32m━━━━━━━━━━━━━━━━━━━━\u001b[0m\u001b[37m\u001b[0m \u001b[1m388s\u001b[0m 560ms/step - accuracy: 0.9274 - loss: 0.1772 - val_accuracy: 0.9445 - val_loss: 0.1452\n",
            "Epoch 29/30\n",
            "\u001b[1m625/625\u001b[0m \u001b[32m━━━━━━━━━━━━━━━━━━━━\u001b[0m\u001b[37m\u001b[0m \u001b[1m0s\u001b[0m 539ms/step - accuracy: 0.9326 - loss: 0.1697\n",
            "Epoch 29: saving model to /content/drive/MyDrive/Colab Notebooks/model_epoch_29.keras\n",
            "\u001b[1m625/625\u001b[0m \u001b[32m━━━━━━━━━━━━━━━━━━━━\u001b[0m\u001b[37m\u001b[0m \u001b[1m350s\u001b[0m 559ms/step - accuracy: 0.9326 - loss: 0.1697 - val_accuracy: 0.9345 - val_loss: 0.1594\n",
            "Epoch 30/30\n",
            "\u001b[1m625/625\u001b[0m \u001b[32m━━━━━━━━━━━━━━━━━━━━\u001b[0m\u001b[37m\u001b[0m \u001b[1m0s\u001b[0m 544ms/step - accuracy: 0.9325 - loss: 0.1709\n",
            "Epoch 30: saving model to /content/drive/MyDrive/Colab Notebooks/model_epoch_30.keras\n",
            "\u001b[1m625/625\u001b[0m \u001b[32m━━━━━━━━━━━━━━━━━━━━\u001b[0m\u001b[37m\u001b[0m \u001b[1m352s\u001b[0m 563ms/step - accuracy: 0.9325 - loss: 0.1709 - val_accuracy: 0.9447 - val_loss: 0.1544\n"
          ]
        }
      ],
      "source": [
        "aug_model = model.fit(\n",
        "    train_generator,\n",
        "    steps_per_epoch=20000 // 32,  # Fixed argument name (plural \"steps\")\n",
        "    epochs=30,\n",
        "    validation_data=validation_ds,\n",
        "    validation_steps=5000 // 32,  # Ensure this matches your validation data size\n",
        "    callbacks=[callback,checkpoint],\n",
        "    initial_epoch=20\n",
        ")"
      ]
    },
    {
      "cell_type": "code",
      "execution_count": null,
      "metadata": {
        "colab": {
          "base_uri": "https://localhost:8080/",
          "height": 430
        },
        "id": "bUR7tfhdSSk-",
        "outputId": "73274731-6bae-4daa-d128-034cdc6acc8b"
      },
      "outputs": [
        {
          "data": {
            "image/png": "[encoded data removed]",
            "text/plain": [
              "<Figure size 640x480 with 1 Axes>"
            ]
          },
          "metadata": {},
          "output_type": "display_data"
        }
      ],
      "source": [
        "import matplotlib.pyplot as plt\n",
        "\n",
        "plt.plot(aug_model.history['accuracy'],color = 'red', label = 'train')\n",
        "plt.plot(aug_model.history['val_accuracy'],color = 'blue',label = 'validation')\n",
        "plt.legend()\n",
        "plt.show()"
      ]
    },
    {
      "cell_type": "code",
      "execution_count": null,
      "metadata": {
        "colab": {
          "base_uri": "https://localhost:8080/",
          "height": 430
        },
        "id": "B2SbtNHgScqV",
        "outputId": "b0b71e34-a080-4a7f-9fa1-f90771ef3d74"
      },
      "outputs": [
        {
          "data": {
            "image/png": "[encoded data removed]",
            "text/plain": [
              "<Figure size 640x480 with 1 Axes>"
            ]
          },
          "metadata": {},
          "output_type": "display_data"
        }
      ],
      "source": [
        "plt.plot(aug_model.history['loss'],color = 'red', label = 'train')\n",
        "plt.plot(aug_model.history['val_loss'],color = 'blue',label = 'validation')\n",
        "plt.legend()\n",
        "plt.show()"
      ]
    }
  ],
  "metadata": {
    "colab": {
      "provenance": []
    },
    "kernelspec": {
      "display_name": "Python 3",
      "name": "python3"
    },
    "language_info": {
      "name": "python"
    }
  },
  "nbformat": 4,
  "nbformat_minor": 0
}